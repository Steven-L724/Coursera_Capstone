{
 "cells": [
  {
   "cell_type": "markdown",
   "metadata": {},
   "source": [
    "# <Center>Exploring Puerto Rico<Center>"
   ]
  },
  {
   "cell_type": "markdown",
   "metadata": {},
   "source": [
    "## A. Introduction"
   ]
  },
  {
   "cell_type": "markdown",
   "metadata": {},
   "source": [
    "### A.1 Background"
   ]
  },
  {
   "cell_type": "markdown",
   "metadata": {},
   "source": [
    "Puerto Rico is a beautiful island that is located in the Caribbean region of the Americas.  It is a great place for a tropical getaway.  I decided to do Puerto Rico for my project because after traveling to the island for my brother's wedding, I enjoyed seeing the beaches, mountains, historic sites, and many other features the island had to offer.  I also enjoyed getting to experience a culture that was very different from the one I'm a part of in my hometown."
   ]
  },
  {
   "cell_type": "markdown",
   "metadata": {},
   "source": [
    "### A.2 Problem"
   ]
  },
  {
   "cell_type": "markdown",
   "metadata": {},
   "source": [
    "With this project, I hope to learn more about what the island has to offer for both tourists and investors.  A tourist who is looking to visit the island would ask\n",
    "\n",
    "__What parts of the island do I want to visit based on what I am interested in seeing the most?__\n",
    "\n",
    "An investor looking to invest in lodging and places to stay will have a very different perspective and might ask\n",
    "\n",
    "__1. Where on the island would be a good place to open a new hotel?__<br>\n",
    "__2. Based on where I live on the island, would starting a Bed and Breakfast or an AirBnB on my property be a good investment for me?__\n",
    "\n",
    "I hope to conduct data analysis that will allow me to answer each of the above questions."
   ]
  },
  {
   "cell_type": "markdown",
   "metadata": {},
   "source": [
    "### A.3 Data"
   ]
  },
  {
   "cell_type": "markdown",
   "metadata": {},
   "source": [
    "I will use the following data to conduct my analysis for this project:\n",
    "1. A __GeoJSON__ file titled __\"First-level Administrative Divisions, Puerto Rico, 2015\"__ from the Stanford EarthWorks Library.<br>\n",
    "    a. The .json file contains the boundaries of each municipality of Puerto Rico.<br>\n",
    "    b. I will use it to create choropleth maps that will be useful for visualizing the data in my analysis.\n",
    "2. __Google Maps__<br>\n",
    "    a. As the coordinates of the municipalities are not available in a nice table, I will have to get them myself.<br>\n",
    "    b. I will use Google Maps to look at Puerto Rico geographically in order to pick a coordinate point for each municipality that will likely give the best results when it comes to retrieving venues from Foursquare's API.\n",
    "3. __Foursquare API__<br>\n",
    "    a. I will use the Foursquare API to get venues for each of Puerto Rico's municipalities."
   ]
  }
 ],
 "metadata": {
  "kernelspec": {
   "display_name": "Python 3",
   "language": "python",
   "name": "python3"
  },
  "language_info": {
   "codemirror_mode": {
    "name": "ipython",
    "version": 3
   },
   "file_extension": ".py",
   "mimetype": "text/x-python",
   "name": "python",
   "nbconvert_exporter": "python",
   "pygments_lexer": "ipython3",
   "version": "3.8.5"
  }
 },
 "nbformat": 4,
 "nbformat_minor": 4
}
